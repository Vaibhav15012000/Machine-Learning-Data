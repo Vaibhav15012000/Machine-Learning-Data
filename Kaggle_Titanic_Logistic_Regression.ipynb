{
  "nbformat": 4,
  "nbformat_minor": 0,
  "metadata": {
    "colab": {
      "name": "Kaggle Titanic Logistic Regression.ipynb",
      "provenance": [],
      "private_outputs": true
    },
    "kernelspec": {
      "name": "python3",
      "display_name": "Python 3"
    },
    "accelerator": "GPU"
  },
  "cells": [
    {
      "cell_type": "code",
      "metadata": {
        "id": "NKQYGTrqXWPd"
      },
      "source": [
        "import numpy as np\n",
        "import pandas as pd\n",
        "import seaborn as sns\n",
        "import matplotlib.pyplot as plt\n"
      ],
      "execution_count": null,
      "outputs": []
    },
    {
      "cell_type": "code",
      "metadata": {
        "id": "jQ0AsihfX7Ju"
      },
      "source": [
        "train_df=pd.read_csv('/content/train.csv')"
      ],
      "execution_count": null,
      "outputs": []
    },
    {
      "cell_type": "code",
      "metadata": {
        "id": "H4Yb9wrNYjqY"
      },
      "source": [
        "test_df=pd.read_csv('/content/test.csv')"
      ],
      "execution_count": null,
      "outputs": []
    },
    {
      "cell_type": "code",
      "metadata": {
        "id": "bx2yRichYpGl"
      },
      "source": [
        "train_df.head()"
      ],
      "execution_count": null,
      "outputs": []
    },
    {
      "cell_type": "code",
      "metadata": {
        "id": "_jauGoJtYqND"
      },
      "source": [
        "test_df.head()"
      ],
      "execution_count": null,
      "outputs": []
    },
    {
      "cell_type": "code",
      "metadata": {
        "id": "NPDqNCfWYucZ"
      },
      "source": [
        "train_df.isnull().sum()"
      ],
      "execution_count": null,
      "outputs": []
    },
    {
      "cell_type": "code",
      "metadata": {
        "id": "u3-97t2aY0MF"
      },
      "source": [
        "test_df.isnull().sum()"
      ],
      "execution_count": null,
      "outputs": []
    },
    {
      "cell_type": "code",
      "metadata": {
        "id": "ByK0BLWMY4vc"
      },
      "source": [
        "sns.catplot(x='Sex',kind='count',data=train_df,palette='plasma')"
      ],
      "execution_count": null,
      "outputs": []
    },
    {
      "cell_type": "code",
      "metadata": {
        "id": "MnKCqh6rZ1O6"
      },
      "source": [
        "train_df['Sex'].value_counts()"
      ],
      "execution_count": null,
      "outputs": []
    },
    {
      "cell_type": "code",
      "metadata": {
        "id": "H75leFTUZ-wf"
      },
      "source": [
        "sns.catplot(x='Sex',kind='count',data=test_df,palette='plasma')"
      ],
      "execution_count": null,
      "outputs": []
    },
    {
      "cell_type": "code",
      "metadata": {
        "id": "GXvK5DBFaWtR"
      },
      "source": [
        "test_df['Sex'].value_counts()"
      ],
      "execution_count": null,
      "outputs": []
    },
    {
      "cell_type": "code",
      "metadata": {
        "id": "uo0KBuHCadOn"
      },
      "source": [
        "# Here in our plot_ 0 = Not Survived & 1 = Survived #\n",
        "sns.countplot(x='Sex',data=train_df,hue='Survived',palette='plasma')"
      ],
      "execution_count": null,
      "outputs": []
    },
    {
      "cell_type": "code",
      "metadata": {
        "id": "A9KzrGZQcjc0"
      },
      "source": [
        "sns.countplot(x='Pclass',data=train_df,hue='Survived',palette='plasma')"
      ],
      "execution_count": null,
      "outputs": []
    },
    {
      "cell_type": "markdown",
      "metadata": {
        "id": "LTTVqViAdgge"
      },
      "source": [
        "# Train data data Manipulation"
      ]
    },
    {
      "cell_type": "code",
      "metadata": {
        "id": "Yhx6t1fDc0JT"
      },
      "source": [
        "train_df = train_df.drop(['PassengerId',\"Name\",\"Ticket\",'Cabin'], axis=1)\n",
        "test_df=test_df.drop(['Name','Ticket','Cabin'],axis=1)"
      ],
      "execution_count": null,
      "outputs": []
    },
    {
      "cell_type": "code",
      "metadata": {
        "id": "Xc8I3V4gdY6V"
      },
      "source": [
        "train_df"
      ],
      "execution_count": null,
      "outputs": []
    },
    {
      "cell_type": "code",
      "metadata": {
        "id": "kUC-TNLOhpEJ"
      },
      "source": [
        "test_df"
      ],
      "execution_count": null,
      "outputs": []
    },
    {
      "cell_type": "code",
      "metadata": {
        "id": "tRJf3KxfdaNK"
      },
      "source": [
        "train_df.isnull().sum()"
      ],
      "execution_count": null,
      "outputs": []
    },
    {
      "cell_type": "code",
      "metadata": {
        "id": "NZeeD7Dgeanm"
      },
      "source": [
        "train_df = pd.get_dummies(train_df)\n",
        "test_df=pd.get_dummies(test_df)"
      ],
      "execution_count": null,
      "outputs": []
    },
    {
      "cell_type": "code",
      "metadata": {
        "id": "X6tj0MykeeMl"
      },
      "source": [
        "train_df"
      ],
      "execution_count": null,
      "outputs": []
    },
    {
      "cell_type": "code",
      "metadata": {
        "id": "9yXjbJgCel51"
      },
      "source": [
        "mean = train_df[\"Age\"].mean()\n"
      ],
      "execution_count": null,
      "outputs": []
    },
    {
      "cell_type": "code",
      "metadata": {
        "id": "KsrvOwuPfBbd"
      },
      "source": [
        "np.round(mean)"
      ],
      "execution_count": null,
      "outputs": []
    },
    {
      "cell_type": "code",
      "metadata": {
        "id": "NH3tLIVbfCw2"
      },
      "source": [
        "train_df['Age']=train_df['Age'].replace(np.nan,np.round(mean))"
      ],
      "execution_count": null,
      "outputs": []
    },
    {
      "cell_type": "code",
      "metadata": {
        "id": "2hOnkX3gffmv"
      },
      "source": [
        "train_df.isnull().sum()"
      ],
      "execution_count": null,
      "outputs": []
    },
    {
      "cell_type": "code",
      "metadata": {
        "id": "UYk8teu5fm0Z"
      },
      "source": [
        "train_df.count()"
      ],
      "execution_count": null,
      "outputs": []
    },
    {
      "cell_type": "markdown",
      "metadata": {
        "id": "hjAWBlRugzaJ"
      },
      "source": [
        "# Test Data Manipulation"
      ]
    },
    {
      "cell_type": "code",
      "metadata": {
        "id": "yZFB3LzEiCtr"
      },
      "source": [
        "test_df.isnull().sum()"
      ],
      "execution_count": null,
      "outputs": []
    },
    {
      "cell_type": "code",
      "metadata": {
        "id": "ujnGi_3UgPFP"
      },
      "source": [
        "mean1=np.round(test_df['Age'].mean())"
      ],
      "execution_count": null,
      "outputs": []
    },
    {
      "cell_type": "code",
      "metadata": {
        "id": "-tRSaFnqg3uA"
      },
      "source": [
        "mean1"
      ],
      "execution_count": null,
      "outputs": []
    },
    {
      "cell_type": "code",
      "metadata": {
        "id": "tr3WWvRuiO72"
      },
      "source": [
        "median=np.round(test_df['Fare'].median())\n",
        "median"
      ],
      "execution_count": null,
      "outputs": []
    },
    {
      "cell_type": "code",
      "metadata": {
        "id": "8JI5P9o9iZhW"
      },
      "source": [
        "test_df['Fare']=test_df['Fare'].replace(np.nan,median)"
      ],
      "execution_count": null,
      "outputs": []
    },
    {
      "cell_type": "code",
      "metadata": {
        "id": "N39yKwq6g9uK"
      },
      "source": [
        "test_df['Age']=test_df['Age'].replace(np.nan,mean1)"
      ],
      "execution_count": null,
      "outputs": []
    },
    {
      "cell_type": "code",
      "metadata": {
        "id": "fAIv91GMhEd5"
      },
      "source": [
        "test_df"
      ],
      "execution_count": null,
      "outputs": []
    },
    {
      "cell_type": "code",
      "metadata": {
        "id": "MPrdFv6UhKsS"
      },
      "source": [
        "test_df.isnull().sum()"
      ],
      "execution_count": null,
      "outputs": []
    },
    {
      "cell_type": "code",
      "metadata": {
        "id": "9gstn093h5tX"
      },
      "source": [
        "test_df.count()"
      ],
      "execution_count": null,
      "outputs": []
    },
    {
      "cell_type": "markdown",
      "metadata": {
        "id": "iFfn4D5jkK-z"
      },
      "source": [
        "# Cheeck Correlation"
      ]
    },
    {
      "cell_type": "code",
      "metadata": {
        "id": "vBAWGGelinBZ"
      },
      "source": [
        "plt.figure(figsize=(12,10))\n",
        "sns.heatmap(train_df.corr(),annot=True,cmap='magma') \n",
        "\n",
        "plt.show()"
      ],
      "execution_count": null,
      "outputs": []
    },
    {
      "cell_type": "markdown",
      "metadata": {
        "id": "NUZouOKFllqS"
      },
      "source": [
        "# **Split the Data**"
      ]
    },
    {
      "cell_type": "code",
      "metadata": {
        "id": "1avSL3dclbW3"
      },
      "source": [
        "X = train_df.drop(\"Survived\",axis=1)\n",
        "Y = train_df[\"Survived\"]"
      ],
      "execution_count": null,
      "outputs": []
    },
    {
      "cell_type": "code",
      "metadata": {
        "id": "enzVCT13kctD"
      },
      "source": [
        "from sklearn.model_selection import train_test_split\n",
        "X_train, X_test, Y_train, Y_test=train_test_split(X,Y,test_size=0.2,random_state=5)"
      ],
      "execution_count": null,
      "outputs": []
    },
    {
      "cell_type": "code",
      "metadata": {
        "id": "2VkQqou3lqVl"
      },
      "source": [
        "X_train = train_df.drop(\"Survived\",axis=1)\n",
        "Y_train = train_df[\"Survived\"]"
      ],
      "execution_count": null,
      "outputs": []
    },
    {
      "cell_type": "code",
      "metadata": {
        "id": "U3LPEt2yl2yR"
      },
      "source": [
        "X_train.shape"
      ],
      "execution_count": null,
      "outputs": []
    },
    {
      "cell_type": "code",
      "metadata": {
        "id": "kKZ9MGzzmCrL"
      },
      "source": [
        "Y_train.shape"
      ],
      "execution_count": null,
      "outputs": []
    },
    {
      "cell_type": "code",
      "metadata": {
        "id": "ZBpdkdpUmHIK"
      },
      "source": [
        "X_test.shape"
      ],
      "execution_count": null,
      "outputs": []
    },
    {
      "cell_type": "markdown",
      "metadata": {
        "id": "sef1BZrVtIo0"
      },
      "source": [
        "**Logistic Regresion**"
      ]
    },
    {
      "cell_type": "code",
      "metadata": {
        "id": "5bt-VxWGmLKm"
      },
      "source": [
        "from sklearn.linear_model import LogisticRegression\n",
        "logit_model=LogisticRegression()"
      ],
      "execution_count": null,
      "outputs": []
    },
    {
      "cell_type": "code",
      "metadata": {
        "id": "IgTns2XSm7r8"
      },
      "source": [
        "logit_model.fit(X_train,Y_train)"
      ],
      "execution_count": null,
      "outputs": []
    },
    {
      "cell_type": "code",
      "metadata": {
        "id": "dKv2PiuxnBTM"
      },
      "source": [
        "logit_model.score(X_test,Y_test)"
      ],
      "execution_count": null,
      "outputs": []
    },
    {
      "cell_type": "markdown",
      "metadata": {
        "id": "p-yJU7F9pDaT"
      },
      "source": [
        "# **Predictions**"
      ]
    },
    {
      "cell_type": "code",
      "metadata": {
        "id": "6F3dETKynufX"
      },
      "source": [
        "predictions= logit_model.predict(X_test)\n",
        "print(\"Survived\", sum(predictions!=0))\n",
        "print(\"NOT Survived\", sum(predictions==0))"
      ],
      "execution_count": null,
      "outputs": []
    },
    {
      "cell_type": "code",
      "metadata": {
        "id": "54Liqibuogjv"
      },
      "source": [
        "from sklearn.metrics import confusion_matrix,classification_report\n",
        "confusion_matrix(Y_test,predictions)"
      ],
      "execution_count": null,
      "outputs": []
    },
    {
      "cell_type": "code",
      "metadata": {
        "id": "waBfyauXowl-"
      },
      "source": [
        "sns.heatmap(confusion_matrix(Y_test,predictions),annot=True,fmt='0.0f',cmap=\"summer\")\n",
        "plt.title('Confusion Matirx')"
      ],
      "execution_count": null,
      "outputs": []
    },
    {
      "cell_type": "code",
      "metadata": {
        "id": "iEIKXa0PpAla"
      },
      "source": [
        "print(classification_report(Y_test,predictions))"
      ],
      "execution_count": null,
      "outputs": []
    },
    {
      "cell_type": "code",
      "metadata": {
        "id": "XZuyRolIqMYh"
      },
      "source": [
        "test_df"
      ],
      "execution_count": null,
      "outputs": []
    },
    {
      "cell_type": "code",
      "metadata": {
        "id": "w3-7Uuq_uWtb"
      },
      "source": [
        "id = test_df['PassengerId']\n",
        "predictions1 = logit_model.predict(test_df.drop('PassengerId', axis=1))"
      ],
      "execution_count": null,
      "outputs": []
    },
    {
      "cell_type": "code",
      "metadata": {
        "id": "_cLwG0-9utHe"
      },
      "source": [
        "output = pd.DataFrame({ 'PassengerId' : id, 'Survived': predictions1 })\n",
        "output.to_csv('DiabetesSubmission1.csv', index=False)"
      ],
      "execution_count": null,
      "outputs": []
    },
    {
      "cell_type": "code",
      "metadata": {
        "id": "1RjC_mrUvgwL"
      },
      "source": [
        "output"
      ],
      "execution_count": null,
      "outputs": []
    },
    {
      "cell_type": "code",
      "metadata": {
        "id": "UQYPNOZAvoGh"
      },
      "source": [
        ""
      ],
      "execution_count": null,
      "outputs": []
    }
  ]
}